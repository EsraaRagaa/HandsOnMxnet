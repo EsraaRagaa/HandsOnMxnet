{
 "cells": [
  {
   "cell_type": "markdown",
   "metadata": {},
   "source": [
    "# First Step on MXNet\n",
    "\n",
    "[**MXNet github**](https://github.com/dmlc/mxnet)\n",
    "\n",
    "[**MXNet documentation**](http://mxnet.readthedocs.org/en/latest/build.html)"
   ]
  },
  {
   "cell_type": "markdown",
   "metadata": {},
   "source": [
    "## 1. Installation\n",
    "### 1.1 Environment\n",
    "* System:    Ubuntu 15.10\n",
    "* Python:    Anaconda Python 2.7.10\n",
    "* CUDA 7.5\n",
    "\n",
    "### 1.2 Install atlas\n",
    "```\n",
    "sudo apt-get install libatlas-base-dev\n",
    "```\n",
    "### 1.3 Install OpenCV\n",
    "First install required packages\n",
    "```\n",
    "sudo apt-get install cmake git libgtk2.0-dev pkg-config libavcodec-dev libavformat-dev libswscale-dev\n",
    "sudo apt-get install python-dev python-numpy libtbb2 libtbb-dev libjpeg-dev libpng-dev libtiff-dev libjasper-dev libdc1394-22-dev\n",
    "```\n",
    "Get OpenCV source code\n",
    "```\n",
    "cd ~/developer\n",
    "git clone https://github.com/Itseez/opencv.git\n",
    "```\n",
    "Compile using cmake\n",
    "```\n",
    "mkdir release\n",
    "cd release\n",
    "cmake -D CMAKE_BUILD_TYPE=RELEASE -D CMAKE_INSTALL_PREFIX=/usr/local ..\n",
    "make -j8 # -j8 runs 8 jobs in parallel.\n",
    "         # Change 8 to number of hardware threads available.\n",
    "sudo make install\n",
    "```\n",
    "\n",
    "### 1.4 Compile MXNet\n",
    "First edit config file\n",
    "```\n",
    "subl make/config.mk\n",
    "```\n",
    "set\n",
    "```\n",
    "USE_CUDA = 1\n",
    "USE_CUDA_PATH = /usr/local/cuda-7.5\n",
    "```\n",
    "Compile\n",
    "```\n",
    "git clone --recursive https://github.com/dmlc/mxnet\n",
    "cd mxnet; make -j4\n",
    "```\n",
    "\n",
    "### 1.5 Install Python packages\n",
    "Only to check if numpy is installed, if not\n",
    "```\n",
    "sudo apt-get install python-numpy\n",
    "```"
   ]
  },
  {
   "cell_type": "markdown",
   "metadata": {
    "collapsed": true
   },
   "source": [
    "## 2.Test MXNet and Python package\n"
   ]
  },
  {
   "cell_type": "code",
   "execution_count": 15,
   "metadata": {
    "collapsed": true
   },
   "outputs": [],
   "source": [
    "import mxnet as mx\n",
    "import numpy as np"
   ]
  },
  {
   "cell_type": "code",
   "execution_count": 16,
   "metadata": {
    "collapsed": true
   },
   "outputs": [],
   "source": [
    "#load validation data\n",
    "data_shape = (3, 224, 224)\n",
    "val = mx.io.ImageRecordIter(\n",
    "        path_imgrec = \"imagenet_val.rec\",\n",
    "        mean_r      = 123.68,\n",
    "        mean_g      = 116.779,\n",
    "        mean_b      = 103.939,\n",
    "        rand_crop   = False,\n",
    "        rand_mirror = False,\n",
    "        data_shape  = data_shape,\n",
    "        batch_size  = 1)"
   ]
  },
  {
   "cell_type": "code",
   "execution_count": 17,
   "metadata": {
    "collapsed": false
   },
   "outputs": [],
   "source": [
    "#load pre-trained vgg-16 model\n",
    "model_loaded = mx.model.FeedForward.load('vgg-16/vgg_16_deploy', 1)"
   ]
  },
  {
   "cell_type": "code",
   "execution_count": 18,
   "metadata": {
    "collapsed": false
   },
   "outputs": [],
   "source": [
    "y = model_loaded.predict(val)"
   ]
  },
  {
   "cell_type": "code",
   "execution_count": 19,
   "metadata": {
    "collapsed": false
   },
   "outputs": [],
   "source": [
    "for i in range(len(y)):\n",
    "    predict = np.argsort(y[i])[::-1][:5]"
   ]
  },
  {
   "cell_type": "code",
   "execution_count": null,
   "metadata": {
    "collapsed": true
   },
   "outputs": [],
   "source": []
  }
 ],
 "metadata": {
  "kernelspec": {
   "display_name": "Python 2",
   "language": "python",
   "name": "python2"
  },
  "language_info": {
   "codemirror_mode": {
    "name": "ipython",
    "version": 2
   },
   "file_extension": ".py",
   "mimetype": "text/x-python",
   "name": "python",
   "nbconvert_exporter": "python",
   "pygments_lexer": "ipython2",
   "version": "2.7.11"
  }
 },
 "nbformat": 4,
 "nbformat_minor": 0
}
